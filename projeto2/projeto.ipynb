{
 "cells": [
  {
   "cell_type": "markdown",
   "metadata": {},
   "source": [
    "# Projeto 2"
   ]
  },
  {
   "cell_type": "markdown",
   "metadata": {},
   "source": [
    "**1 -** Importando as bibliotecas que serão usadas"
   ]
  },
  {
   "cell_type": "code",
   "execution_count": 1,
   "metadata": {},
   "outputs": [],
   "source": [
    "import moviepy.editor as mpe\n",
    "import numpy as np\n",
    "import matplotlib.pyplot as plt"
   ]
  },
  {
   "cell_type": "markdown",
   "metadata": {},
   "source": [
    "**2 -** Abrindo o vídeo \"video_shrek.mp4\" e salvando em uma variável"
   ]
  },
  {
   "cell_type": "code",
   "execution_count": 7,
   "metadata": {},
   "outputs": [],
   "source": [
    "shrek_inicial = mpe.VideoFileClip(\"video_shrek.mp4\")"
   ]
  },
  {
   "cell_type": "markdown",
   "metadata": {},
   "source": [
    "**3 -** Invertendo a imagem no eixo a cada 20 segundos"
   ]
  },
  {
   "cell_type": "code",
   "execution_count": null,
   "metadata": {},
   "outputs": [],
   "source": [
    "def inverter_eixo(get_frame, t):\n",
    "    frame = get_frame(t)\n",
    "    if (int(t) // 20) % 2 == 1:\n",
    "        return frame[:, ::-1]\n",
    "    return frame\n",
    "\n",
    "shrek_invertido = shrek_inicial.fl(inverter_eixo)\n",
    "\n",
    "shrek_invertido.ipython_display(width=480, maxduration=162)"
   ]
  },
  {
   "cell_type": "markdown",
   "metadata": {},
   "source": [
    "**4 -** Diminuindo o som, de forma gradativa, a cada 30 segundos, de forma que os últimos 10 segundos fique em silêncio "
   ]
  },
  {
   "cell_type": "code",
   "execution_count": null,
   "metadata": {},
   "outputs": [],
   "source": [
    "def reduce_volume(t):\n",
    "    intervalos = [30, 60, 90, 120, 150]\n",
    "    volumes = [1.0, 0.8, 0.6, 0.4, 0.2, 0.0]\n",
    "    \n",
    "    if np.isscalar(t):\n",
    "        for i in range(len(intervalos)):\n",
    "            if t < intervalos[i]:\n",
    "                return volumes[i]\n",
    "        return volumes[-1]\n",
    "    else:\n",
    "        t = np.array(t)\n",
    "        out = np.zeros_like(t, dtype=float)\n",
    "        for i in range(len(intervalos)):\n",
    "            out = np.where((t >= intervalos[i - 1] if i > 0 else t >= 0) & (t < intervalos[i]), volumes[i], out)\n",
    "        return np.where(t >= intervalos[-1], volumes[-1], out)\n",
    "\n",
    "\n",
    "shrek_audio = shrek_invertido.audio\n",
    "shrek_audio_reduzido = shrek_invertido.audio.fl(lambda gf, t: gf(t) * reduce_volume(t)[:, np.newaxis])\n",
    "shrek_diminuido = shrek_invertido.set_audio(shrek_audio_reduzido)\n",
    "shrek_diminuido.ipython_display(width=480, maxduration=162)"
   ]
  },
  {
   "cell_type": "markdown",
   "metadata": {},
   "source": [
    "**5 -** Após o primeiro minuto, 60 segundos, fazer um corte para o segundo 80"
   ]
  },
  {
   "cell_type": "code",
   "execution_count": null,
   "metadata": {},
   "outputs": [],
   "source": [
    "shrek_cortado_clip1 = shrek_diminuido.subclip(0, 60)\n",
    "shrek_cortado_clip2 = shrek_diminuido.subclip(80, shrek_diminuido.duration)\n",
    "\n",
    "shrek_cortado = mpe.concatenate_videoclips([shrek_cortado_clip1, shrek_cortado_clip2])\n",
    "\n",
    "shrek_cortado.ipython_display(width=480, maxduration=162)"
   ]
  },
  {
   "cell_type": "markdown",
   "metadata": {},
   "source": [
    "**6 -** Por fim, insira os 20 segundos cortados acima no fim do video"
   ]
  },
  {
   "cell_type": "code",
   "execution_count": null,
   "metadata": {},
   "outputs": [],
   "source": [
    "shrek_cortado_clip = shrek_diminuido.subclip(60, 80)\n",
    "shrek_final = mpe.concatenate_videoclips([shrek_cortado, shrek_cortado_clip])\n",
    "\n",
    "shrek_final.write_videofile(\"shrek_final.mp4\")\n"
   ]
  }
 ],
 "metadata": {
  "kernelspec": {
   "display_name": "Python 3",
   "language": "python",
   "name": "python3"
  },
  "language_info": {
   "codemirror_mode": {
    "name": "ipython",
    "version": 3
   },
   "file_extension": ".py",
   "mimetype": "text/x-python",
   "name": "python",
   "nbconvert_exporter": "python",
   "pygments_lexer": "ipython3",
   "version": "3.10.11"
  }
 },
 "nbformat": 4,
 "nbformat_minor": 2
}
